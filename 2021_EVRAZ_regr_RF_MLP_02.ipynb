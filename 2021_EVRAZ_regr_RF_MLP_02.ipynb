{
 "cells": [
  {
   "cell_type": "markdown",
   "metadata": {
    "colab_type": "text",
    "id": "nTNcAt4rAk4j"
   },
   "source": [
    "Отборочное задание Евраз. Исп.Бочаров А.М. скайп bam271074\n",
    "\n",
    "\n"
   ]
  },
  {
   "cell_type": "markdown",
   "metadata": {},
   "source": [
    "Сталь обрабатывают в металлическом ковше вместимостью около 110 тонн.\tЧтобы\tковш\tвыдерживал\tвысокие\tтемпературы,\tизнутри\tего облицовывают огнеупорным кирпичом. Расплавленную сталь заливают в ковш и подогревают до нужной температуры графитовыми электродами. Они установлены в крышке ковша.\n",
    "Из сплава выводится сера (десульфурация), добавлением примесей корректируется химический состав и отбираются пробы. Сталь легируют — изменяют её состав — подавая куски сплава из бункера для сыпучих материалов или проволоку через специальный трайб-аппарат (англ. tribe, «масса»).\n",
    "Перед тем как первый раз ввести легирующие добавки, измеряют температуру стали и производят её химический анализ. Потом температуру на несколько минут повышают, добавляют легирующие материалы и продувают сплав инертным газом. Затем его перемешивают и снова проводят измерения. Такой цикл повторяется до достижения целевого химического состава и оптимальной температуры плавки.\n",
    "Тогда расплавленная сталь отправляется на доводку металла или поступает в машину непрерывной разливки стали МНЛЗ. Оттуда готовый продукт выходит в виде заготовок-рельс, каждая из которых пилится на 4 отрезка - крата.\n"
   ]
  },
  {
   "cell_type": "markdown",
   "metadata": {},
   "source": [
    "Задача\n",
    "Изучите данные физико-химического процесса\n",
    "легирования сталей. Создайте алгоритм определения\n",
    "химического состава шлака по исходным данным.\n",
    "Файл «Исходные данные.csv» \n",
    "(данные по плавкам о количестве добавок, расходе э/э, \n",
    " химическом анализе стали и хим анализ шлака, забираемых в начале плавки и в конце). \n",
    "Данные требуется очистить, в трети выборки показатели хим анализа отсутствуют, \n",
    "их нужно занулить. Зафиксировать самую популярную по плавкам марку стали и для нее\n",
    "спрогнозировать целевой состав шлака.\n"
   ]
  },
  {
   "cell_type": "code",
   "execution_count": 33,
   "metadata": {
    "colab": {},
    "colab_type": "code",
    "id": "crv1ExroAiIf"
   },
   "outputs": [],
   "source": [
    "import pandas as pd  #for work with dataframes\n",
    "from datetime import datetime\n",
    "import matplotlib.pyplot as plt  # lib for plots\n",
    "from sklearn.neural_network import MLPRegressor\n",
    "from sklearn.ensemble import RandomForestRegressor\n",
    "from sklearn.model_selection import train_test_split\n",
    "from sklearn.metrics import mean_absolute_error  #for metric of our model\n",
    "from sklearn.model_selection import GridSearchCV\n",
    "RS=42   #we will fix random state\n",
    "\n",
    "import warnings\n",
    "warnings.filterwarnings('ignore')"
   ]
  },
  {
   "cell_type": "code",
   "execution_count": 34,
   "metadata": {
    "ExecuteTime": {
     "end_time": "2019-10-14T03:11:55.877105Z",
     "start_time": "2019-10-14T03:11:55.368186Z"
    },
    "colab": {
     "base_uri": "https://localhost:8080/",
     "height": 225
    },
    "colab_type": "code",
    "id": "vp0JMum43LhB",
    "outputId": "fe76357b-35e1-44f3-ab17-eeab20bfa4de"
   },
   "outputs": [
    {
     "data": {
      "text/html": [
       "<div>\n",
       "<style scoped>\n",
       "    .dataframe tbody tr th:only-of-type {\n",
       "        vertical-align: middle;\n",
       "    }\n",
       "\n",
       "    .dataframe tbody tr th {\n",
       "        vertical-align: top;\n",
       "    }\n",
       "\n",
       "    .dataframe thead th {\n",
       "        text-align: right;\n",
       "    }\n",
       "</style>\n",
       "<table border=\"1\" class=\"dataframe\">\n",
       "  <thead>\n",
       "    <tr style=\"text-align: right;\">\n",
       "      <th></th>\n",
       "      <th>nplv</th>\n",
       "      <th>DT</th>\n",
       "      <th>МАРКА</th>\n",
       "      <th>ПРОФИЛЬ</th>\n",
       "      <th>t вып-обр</th>\n",
       "      <th>t обработка</th>\n",
       "      <th>t под током</th>\n",
       "      <th>t продувка</th>\n",
       "      <th>ПСН гр.</th>\n",
       "      <th>чист расход C</th>\n",
       "      <th>...</th>\n",
       "      <th>химшлак первый MnO_1</th>\n",
       "      <th>химшлак первый R_1</th>\n",
       "      <th>химшлак первый SiO2_1</th>\n",
       "      <th>химшлак последний Al2O3</th>\n",
       "      <th>химшлак последний CaO</th>\n",
       "      <th>химшлак последний FeO</th>\n",
       "      <th>химшлак последний MgO</th>\n",
       "      <th>химшлак последний MnO</th>\n",
       "      <th>химшлак последний R</th>\n",
       "      <th>химшлак последний SiO2</th>\n",
       "    </tr>\n",
       "  </thead>\n",
       "  <tbody>\n",
       "    <tr>\n",
       "      <th>7036</th>\n",
       "      <td>г68386398&lt;;</td>\n",
       "      <td>2071-04-21 19:50:00</td>\n",
       "      <td>Э90ХАФ</td>\n",
       "      <td>Р65</td>\n",
       "      <td>41.0</td>\n",
       "      <td>42.333333</td>\n",
       "      <td>23.200000</td>\n",
       "      <td>42.166667</td>\n",
       "      <td>3.380628</td>\n",
       "      <td>0.537080</td>\n",
       "      <td>...</td>\n",
       "      <td>0.10</td>\n",
       "      <td>2.6</td>\n",
       "      <td>22.2</td>\n",
       "      <td>7.0</td>\n",
       "      <td>60.6</td>\n",
       "      <td>0.4</td>\n",
       "      <td>6.2</td>\n",
       "      <td>0.06</td>\n",
       "      <td>2.7</td>\n",
       "      <td>22.8</td>\n",
       "    </tr>\n",
       "    <tr>\n",
       "      <th>7037</th>\n",
       "      <td>г68386398&lt;&lt;</td>\n",
       "      <td>2071-04-21 20:45:00</td>\n",
       "      <td>Э90ХАФ</td>\n",
       "      <td>Р65</td>\n",
       "      <td>36.0</td>\n",
       "      <td>46.533333</td>\n",
       "      <td>16.183333</td>\n",
       "      <td>46.383333</td>\n",
       "      <td>NaN</td>\n",
       "      <td>0.555875</td>\n",
       "      <td>...</td>\n",
       "      <td>0.10</td>\n",
       "      <td>2.2</td>\n",
       "      <td>24.5</td>\n",
       "      <td>4.9</td>\n",
       "      <td>53.0</td>\n",
       "      <td>0.5</td>\n",
       "      <td>11.1</td>\n",
       "      <td>0.25</td>\n",
       "      <td>2.4</td>\n",
       "      <td>22.3</td>\n",
       "    </tr>\n",
       "    <tr>\n",
       "      <th>7038</th>\n",
       "      <td>г68386398&lt;=</td>\n",
       "      <td>2071-04-21 21:34:00</td>\n",
       "      <td>Э90ХАФ</td>\n",
       "      <td>Р65</td>\n",
       "      <td>42.0</td>\n",
       "      <td>47.566667</td>\n",
       "      <td>23.016667</td>\n",
       "      <td>47.100000</td>\n",
       "      <td>2.263004</td>\n",
       "      <td>0.548385</td>\n",
       "      <td>...</td>\n",
       "      <td>0.13</td>\n",
       "      <td>2.7</td>\n",
       "      <td>20.0</td>\n",
       "      <td>5.2</td>\n",
       "      <td>55.4</td>\n",
       "      <td>0.7</td>\n",
       "      <td>6.7</td>\n",
       "      <td>0.13</td>\n",
       "      <td>2.2</td>\n",
       "      <td>25.0</td>\n",
       "    </tr>\n",
       "    <tr>\n",
       "      <th>7039</th>\n",
       "      <td>г68386398&lt;&gt;</td>\n",
       "      <td>2071-04-21 22:25:00</td>\n",
       "      <td>Э90ХАФ</td>\n",
       "      <td>Р65</td>\n",
       "      <td>45.0</td>\n",
       "      <td>46.033333</td>\n",
       "      <td>17.533333</td>\n",
       "      <td>45.683333</td>\n",
       "      <td>3.000000</td>\n",
       "      <td>0.601350</td>\n",
       "      <td>...</td>\n",
       "      <td>0.18</td>\n",
       "      <td>2.1</td>\n",
       "      <td>24.5</td>\n",
       "      <td>4.9</td>\n",
       "      <td>55.1</td>\n",
       "      <td>0.4</td>\n",
       "      <td>8.9</td>\n",
       "      <td>0.16</td>\n",
       "      <td>2.1</td>\n",
       "      <td>26.0</td>\n",
       "    </tr>\n",
       "    <tr>\n",
       "      <th>7040</th>\n",
       "      <td>г68386398&lt;?</td>\n",
       "      <td>2071-04-21 23:20:00</td>\n",
       "      <td>Э90ХАФ</td>\n",
       "      <td>Р65</td>\n",
       "      <td>48.0</td>\n",
       "      <td>52.033333</td>\n",
       "      <td>21.700000</td>\n",
       "      <td>50.233333</td>\n",
       "      <td>3.000000</td>\n",
       "      <td>0.549400</td>\n",
       "      <td>...</td>\n",
       "      <td>0.07</td>\n",
       "      <td>2.4</td>\n",
       "      <td>24.2</td>\n",
       "      <td>5.4</td>\n",
       "      <td>57.3</td>\n",
       "      <td>0.7</td>\n",
       "      <td>6.6</td>\n",
       "      <td>0.13</td>\n",
       "      <td>2.3</td>\n",
       "      <td>25.5</td>\n",
       "    </tr>\n",
       "  </tbody>\n",
       "</table>\n",
       "<p>5 rows × 84 columns</p>\n",
       "</div>"
      ],
      "text/plain": [
       "             nplv                   DT   МАРКА ПРОФИЛЬ  t вып-обр  \\\n",
       "7036  г68386398<;  2071-04-21 19:50:00  Э90ХАФ     Р65       41.0   \n",
       "7037  г68386398<<  2071-04-21 20:45:00  Э90ХАФ     Р65       36.0   \n",
       "7038  г68386398<=  2071-04-21 21:34:00  Э90ХАФ     Р65       42.0   \n",
       "7039  г68386398<>  2071-04-21 22:25:00  Э90ХАФ     Р65       45.0   \n",
       "7040  г68386398<?  2071-04-21 23:20:00  Э90ХАФ     Р65       48.0   \n",
       "\n",
       "      t обработка  t под током  t продувка   ПСН гр.  чист расход C  ...  \\\n",
       "7036    42.333333    23.200000   42.166667  3.380628       0.537080  ...   \n",
       "7037    46.533333    16.183333   46.383333       NaN       0.555875  ...   \n",
       "7038    47.566667    23.016667   47.100000  2.263004       0.548385  ...   \n",
       "7039    46.033333    17.533333   45.683333  3.000000       0.601350  ...   \n",
       "7040    52.033333    21.700000   50.233333  3.000000       0.549400  ...   \n",
       "\n",
       "      химшлак первый MnO_1  химшлак первый R_1  химшлак первый SiO2_1  \\\n",
       "7036                  0.10                 2.6                   22.2   \n",
       "7037                  0.10                 2.2                   24.5   \n",
       "7038                  0.13                 2.7                   20.0   \n",
       "7039                  0.18                 2.1                   24.5   \n",
       "7040                  0.07                 2.4                   24.2   \n",
       "\n",
       "      химшлак последний Al2O3  химшлак последний CaO  химшлак последний FeO  \\\n",
       "7036                      7.0                   60.6                    0.4   \n",
       "7037                      4.9                   53.0                    0.5   \n",
       "7038                      5.2                   55.4                    0.7   \n",
       "7039                      4.9                   55.1                    0.4   \n",
       "7040                      5.4                   57.3                    0.7   \n",
       "\n",
       "      химшлак последний MgO  химшлак последний MnO  химшлак последний R  \\\n",
       "7036                    6.2                   0.06                  2.7   \n",
       "7037                   11.1                   0.25                  2.4   \n",
       "7038                    6.7                   0.13                  2.2   \n",
       "7039                    8.9                   0.16                  2.1   \n",
       "7040                    6.6                   0.13                  2.3   \n",
       "\n",
       "      химшлак последний SiO2  \n",
       "7036                    22.8  \n",
       "7037                    22.3  \n",
       "7038                    25.0  \n",
       "7039                    26.0  \n",
       "7040                    25.5  \n",
       "\n",
       "[5 rows x 84 columns]"
      ]
     },
     "execution_count": 34,
     "metadata": {},
     "output_type": "execute_result"
    }
   ],
   "source": [
    "#let s build dataframe with our dataset\n",
    "df_train = pd.read_csv('d:\\\\2021\\\\hackatones\\\\EVRAZ\\\\Исходные данные.csv',sep=';',\n",
    "                       index_col=0,decimal=',')\n",
    "df_train.tail()"
   ]
  },
  {
   "cell_type": "code",
   "execution_count": 3,
   "metadata": {},
   "outputs": [
    {
     "data": {
      "text/plain": [
       "Index(['nplv', 'DT', 'МАРКА', 'ПРОФИЛЬ', 't вып-обр', 't обработка',\n",
       "       't под током', 't продувка', 'ПСН гр.', 'чист расход C',\n",
       "       'чист расход Cr', 'чист расход Mn', 'чист расход Si', 'чист расход V',\n",
       "       'температура первая', 'температура последняя', 'Ar (интенс.)',\n",
       "       'N2 (интенс.)', 'эл. энергия (интенс.)', 'произв жидкая сталь',\n",
       "       'произв количество обработок', 'произв  количество плавок',\n",
       "       'произв количество плавок (цел)', 'расход газ Ar', 'расход газ  N2',\n",
       "       'расход C пров.', 'сыпуч известь РП', 'сыпуч кварцит',\n",
       "       'сыпуч кокс пыль УСТК', 'сыпуч  кокс. мелочь (сух.)',\n",
       "       'сыпуч  кокс. мелочь КМ1', 'сыпуч  шпат плав.', 'ферспл CaC2',\n",
       "       'ферспл FeMo', 'ферспл FeSi-75', 'ферспл FeV азот.', 'ферспл  FeV-80',\n",
       "       'ферспл  Mn5Si65Al0.5', 'ферспл  Ni H1 пласт.', 'ферспл SiMn18',\n",
       "       'ферспл  ферванит', 'ферспл  фх850А', 'эл. энергия',\n",
       "       'химсталь первый Al_1', 'химсталь первый C_1', 'химсталь первый Cr_1',\n",
       "       'химсталь первый Cu_1', 'химсталь первый Mn_1', 'химсталь первый Mo_1',\n",
       "       'химсталь первый N_1', 'химсталь первый Ni_1', 'химсталь первый P_1',\n",
       "       'химсталь первый S_1', 'химсталь первый Si_1', 'химсталь первый Ti_1',\n",
       "       'химсталь первый V_1', 'химсталь последний Al', 'химсталь последний C',\n",
       "       'химсталь последний Ca', 'химсталь последний Cr',\n",
       "       'химсталь последний Cu', 'химсталь последний Mn',\n",
       "       'химсталь последний Mo', 'химсталь последний N',\n",
       "       'химсталь последний Ni', 'химсталь последний P', 'химсталь последний S',\n",
       "       'химсталь последний Si', 'химсталь последний Ti',\n",
       "       'химсталь последний V', 'химшлак первый Al2O3_1',\n",
       "       'химшлак первый CaO_1', 'химшлак первый FeO_1', 'химшлак первый MgO_1',\n",
       "       'химшлак первый MnO_1', 'химшлак первый R_1', 'химшлак первый SiO2_1',\n",
       "       'химшлак последний Al2O3', 'химшлак последний CaO',\n",
       "       'химшлак последний FeO', 'химшлак последний MgO',\n",
       "       'химшлак последний MnO', 'химшлак последний R',\n",
       "       'химшлак последний SiO2'],\n",
       "      dtype='object')"
      ]
     },
     "execution_count": 3,
     "metadata": {},
     "output_type": "execute_result"
    }
   ],
   "source": [
    "df_train.columns"
   ]
  },
  {
   "cell_type": "code",
   "execution_count": 35,
   "metadata": {},
   "outputs": [
    {
     "data": {
      "text/html": [
       "<div>\n",
       "<style scoped>\n",
       "    .dataframe tbody tr th:only-of-type {\n",
       "        vertical-align: middle;\n",
       "    }\n",
       "\n",
       "    .dataframe tbody tr th {\n",
       "        vertical-align: top;\n",
       "    }\n",
       "\n",
       "    .dataframe thead th {\n",
       "        text-align: right;\n",
       "    }\n",
       "</style>\n",
       "<table border=\"1\" class=\"dataframe\">\n",
       "  <thead>\n",
       "    <tr style=\"text-align: right;\">\n",
       "      <th></th>\n",
       "      <th>count</th>\n",
       "      <th>unique</th>\n",
       "      <th>top</th>\n",
       "      <th>freq</th>\n",
       "    </tr>\n",
       "  </thead>\n",
       "  <tbody>\n",
       "    <tr>\n",
       "      <th>nplv</th>\n",
       "      <td>7041</td>\n",
       "      <td>7041</td>\n",
       "      <td>г6838637:9?</td>\n",
       "      <td>1</td>\n",
       "    </tr>\n",
       "    <tr>\n",
       "      <th>DT</th>\n",
       "      <td>7041</td>\n",
       "      <td>7041</td>\n",
       "      <td>2071-02-11 00:46:00</td>\n",
       "      <td>1</td>\n",
       "    </tr>\n",
       "    <tr>\n",
       "      <th>МАРКА</th>\n",
       "      <td>7041</td>\n",
       "      <td>18</td>\n",
       "      <td>Э76ХФ</td>\n",
       "      <td>4953</td>\n",
       "    </tr>\n",
       "    <tr>\n",
       "      <th>ПРОФИЛЬ</th>\n",
       "      <td>7041</td>\n",
       "      <td>18</td>\n",
       "      <td>Р65</td>\n",
       "      <td>6427</td>\n",
       "    </tr>\n",
       "  </tbody>\n",
       "</table>\n",
       "</div>"
      ],
      "text/plain": [
       "        count unique                  top  freq\n",
       "nplv     7041   7041          г6838637:9?     1\n",
       "DT       7041   7041  2071-02-11 00:46:00     1\n",
       "МАРКА    7041     18                Э76ХФ  4953\n",
       "ПРОФИЛЬ  7041     18                  Р65  6427"
      ]
     },
     "execution_count": 35,
     "metadata": {},
     "output_type": "execute_result"
    }
   ],
   "source": [
    "df_train.describe(include='object').T"
   ]
  },
  {
   "cell_type": "code",
   "execution_count": 5,
   "metadata": {},
   "outputs": [
    {
     "data": {
      "text/plain": [
       "nplv                                 0\n",
       "DT                                   0\n",
       "МАРКА                                0\n",
       "ПРОФИЛЬ                              0\n",
       "t вып-обр                          597\n",
       "t обработка                        601\n",
       "t под током                        601\n",
       "t продувка                         597\n",
       "ПСН гр.                           1792\n",
       "чист расход C                      606\n",
       "чист расход Cr                    1158\n",
       "чист расход Mn                     610\n",
       "чист расход Si                     610\n",
       "чист расход V                      863\n",
       "температура первая                 605\n",
       "температура последняя              605\n",
       "Ar (интенс.)                       615\n",
       "N2 (интенс.)                      5652\n",
       "эл. энергия (интенс.)              601\n",
       "произв жидкая сталь                597\n",
       "произв количество обработок        597\n",
       "произв  количество плавок          597\n",
       "произв количество плавок (цел)     597\n",
       "расход газ Ar                      615\n",
       "расход газ  N2                    5652\n",
       "расход C пров.                    6317\n",
       "сыпуч известь РП                  2271\n",
       "сыпуч кварцит                     7028\n",
       "сыпуч кокс пыль УСТК               619\n",
       "сыпуч  кокс. мелочь (сух.)        7034\n",
       "                                  ... \n",
       "химсталь первый Ti_1               597\n",
       "химсталь первый V_1                597\n",
       "химсталь последний Al              597\n",
       "химсталь последний C               597\n",
       "химсталь последний Ca              823\n",
       "химсталь последний Cr              597\n",
       "химсталь последний Cu              597\n",
       "химсталь последний Mn              597\n",
       "химсталь последний Mo              597\n",
       "химсталь последний N               599\n",
       "химсталь последний Ni              597\n",
       "химсталь последний P               597\n",
       "химсталь последний S               597\n",
       "химсталь последний Si              597\n",
       "химсталь последний Ti              597\n",
       "химсталь последний V               597\n",
       "химшлак первый Al2O3_1            2299\n",
       "химшлак первый CaO_1               597\n",
       "химшлак первый FeO_1               597\n",
       "химшлак первый MgO_1               598\n",
       "химшлак первый MnO_1               597\n",
       "химшлак первый R_1                 597\n",
       "химшлак первый SiO2_1             2299\n",
       "химшлак последний Al2O3           2299\n",
       "химшлак последний CaO              597\n",
       "химшлак последний FeO              597\n",
       "химшлак последний MgO              598\n",
       "химшлак последний MnO              597\n",
       "химшлак последний R                597\n",
       "химшлак последний SiO2            2299\n",
       "Length: 84, dtype: int64"
      ]
     },
     "execution_count": 5,
     "metadata": {},
     "output_type": "execute_result"
    }
   ],
   "source": [
    "#let s see how many NaNs\n",
    "df_train.isnull().sum()"
   ]
  },
  {
   "cell_type": "markdown",
   "metadata": {},
   "source": [
    "Провести ЕDA (исследовательский анализ данных) целевого химического состава шлака и предсказать:\n",
    "• химшлак последний Al2O3 • химшлак последний CaO\n",
    "• химшлак последний R\n",
    "• химшлак последний SiO2\n"
   ]
  },
  {
   "cell_type": "code",
   "execution_count": 36,
   "metadata": {},
   "outputs": [
    {
     "data": {
      "text/plain": [
       "(7041, 84)"
      ]
     },
     "execution_count": 36,
     "metadata": {},
     "output_type": "execute_result"
    }
   ],
   "source": [
    "df_train.shape"
   ]
  },
  {
   "cell_type": "code",
   "execution_count": 38,
   "metadata": {},
   "outputs": [
    {
     "data": {
      "text/plain": [
       "(4953, 84)"
      ]
     },
     "execution_count": 38,
     "metadata": {},
     "output_type": "execute_result"
    }
   ],
   "source": [
    "# самая популярная марка Э76ХФ     встречается в датасете 4953 раз\n",
    "df_best_marka = df_train.loc[df_train['МАРКА'] == 'Э76ХФ']\n",
    "df_best_marka.shape"
   ]
  },
  {
   "cell_type": "code",
   "execution_count": 16,
   "metadata": {},
   "outputs": [
    {
     "data": {
      "text/plain": [
       "<matplotlib.axes._subplots.AxesSubplot at 0xf38dd30>"
      ]
     },
     "execution_count": 16,
     "metadata": {},
     "output_type": "execute_result"
    },
    {
     "data": {
      "image/png": "[encoded data removed]",
      "text/plain": [
       "<Figure size 432x288 with 1 Axes>"
      ]
     },
     "metadata": {
      "needs_background": "light"
     },
     "output_type": "display_data"
    }
   ],
   "source": [
    "df_best_marka['химшлак последний Al2O3'].hist()"
   ]
  },
  {
   "cell_type": "code",
   "execution_count": 17,
   "metadata": {},
   "outputs": [
    {
     "data": {
      "text/plain": [
       "<matplotlib.axes._subplots.AxesSubplot at 0x22d907f0>"
      ]
     },
     "execution_count": 17,
     "metadata": {},
     "output_type": "execute_result"
    },
    {
     "data": {
      "image/png": "[encoded data removed]",
      "text/plain": [
       "<Figure size 432x288 with 1 Axes>"
      ]
     },
     "metadata": {
      "needs_background": "light"
     },
     "output_type": "display_data"
    }
   ],
   "source": [
    "# let s see химшлак последний CaO \n",
    "df_best_marka['химшлак последний CaO'].hist()"
   ]
  },
  {
   "cell_type": "code",
   "execution_count": 18,
   "metadata": {},
   "outputs": [
    {
     "data": {
      "text/plain": [
       "<matplotlib.axes._subplots.AxesSubplot at 0x431f24e0>"
      ]
     },
     "execution_count": 18,
     "metadata": {},
     "output_type": "execute_result"
    },
    {
     "data": {
      "image/png": "[encoded data removed]",
      "text/plain": [
       "<Figure size 432x288 with 1 Axes>"
      ]
     },
     "metadata": {
      "needs_background": "light"
     },
     "output_type": "display_data"
    }
   ],
   "source": [
    "# let s see химшлак последний R\n",
    "df_best_marka['химшлак последний R'].hist()"
   ]
  },
  {
   "cell_type": "code",
   "execution_count": 19,
   "metadata": {},
   "outputs": [
    {
     "data": {
      "text/plain": [
       "<matplotlib.axes._subplots.AxesSubplot at 0x66dd90b8>"
      ]
     },
     "execution_count": 19,
     "metadata": {},
     "output_type": "execute_result"
    },
    {
     "data": {
      "image/png": "[encoded data removed]",
      "text/plain": [
       "<Figure size 432x288 with 1 Axes>"
      ]
     },
     "metadata": {
      "needs_background": "light"
     },
     "output_type": "display_data"
    }
   ],
   "source": [
    "# let s see химшлак последний SiO2\n",
    "df_best_marka['химшлак последний SiO2'].hist()"
   ]
  },
  {
   "cell_type": "code",
   "execution_count": 39,
   "metadata": {},
   "outputs": [],
   "source": [
    "Target_columns=['химшлак последний Al2O3', 'химшлак последний CaO',\n",
    "       'химшлак последний R','химшлак последний SiO2']\n"
   ]
  },
  {
   "cell_type": "code",
   "execution_count": 40,
   "metadata": {},
   "outputs": [
    {
     "data": {
      "text/html": [
       "<div>\n",
       "<style scoped>\n",
       "    .dataframe tbody tr th:only-of-type {\n",
       "        vertical-align: middle;\n",
       "    }\n",
       "\n",
       "    .dataframe tbody tr th {\n",
       "        vertical-align: top;\n",
       "    }\n",
       "\n",
       "    .dataframe thead th {\n",
       "        text-align: right;\n",
       "    }\n",
       "</style>\n",
       "<table border=\"1\" class=\"dataframe\">\n",
       "  <thead>\n",
       "    <tr style=\"text-align: right;\">\n",
       "      <th></th>\n",
       "      <th>nplv</th>\n",
       "      <th>DT</th>\n",
       "      <th>МАРКА</th>\n",
       "      <th>ПРОФИЛЬ</th>\n",
       "      <th>t вып-обр</th>\n",
       "      <th>t обработка</th>\n",
       "      <th>t под током</th>\n",
       "      <th>t продувка</th>\n",
       "      <th>ПСН гр.</th>\n",
       "      <th>чист расход C</th>\n",
       "      <th>...</th>\n",
       "      <th>химшлак первый MnO_1</th>\n",
       "      <th>химшлак первый R_1</th>\n",
       "      <th>химшлак первый SiO2_1</th>\n",
       "      <th>химшлак последний Al2O3</th>\n",
       "      <th>химшлак последний CaO</th>\n",
       "      <th>химшлак последний FeO</th>\n",
       "      <th>химшлак последний MgO</th>\n",
       "      <th>химшлак последний MnO</th>\n",
       "      <th>химшлак последний R</th>\n",
       "      <th>химшлак последний SiO2</th>\n",
       "    </tr>\n",
       "  </thead>\n",
       "  <tbody>\n",
       "    <tr>\n",
       "      <th>0</th>\n",
       "      <td>г6837?3&lt;87?</td>\n",
       "      <td>235</td>\n",
       "      <td>Э76ХФ</td>\n",
       "      <td>Р65</td>\n",
       "      <td>29.0</td>\n",
       "      <td>45.366667</td>\n",
       "      <td>24.400000</td>\n",
       "      <td>41.033333</td>\n",
       "      <td>NaN</td>\n",
       "      <td>0.456460</td>\n",
       "      <td>...</td>\n",
       "      <td>0.12</td>\n",
       "      <td>2.6</td>\n",
       "      <td>NaN</td>\n",
       "      <td>NaN</td>\n",
       "      <td>53.4</td>\n",
       "      <td>1.0</td>\n",
       "      <td>5.8</td>\n",
       "      <td>0.15</td>\n",
       "      <td>2.6</td>\n",
       "      <td>NaN</td>\n",
       "    </tr>\n",
       "    <tr>\n",
       "      <th>1</th>\n",
       "      <td>г683863&lt;886</td>\n",
       "      <td>234</td>\n",
       "      <td>Э76ХФ</td>\n",
       "      <td>Р65</td>\n",
       "      <td>26.0</td>\n",
       "      <td>44.066667</td>\n",
       "      <td>13.866667</td>\n",
       "      <td>44.066667</td>\n",
       "      <td>NaN</td>\n",
       "      <td>0.359285</td>\n",
       "      <td>...</td>\n",
       "      <td>0.14</td>\n",
       "      <td>2.2</td>\n",
       "      <td>NaN</td>\n",
       "      <td>NaN</td>\n",
       "      <td>59.3</td>\n",
       "      <td>0.6</td>\n",
       "      <td>4.1</td>\n",
       "      <td>0.11</td>\n",
       "      <td>2.3</td>\n",
       "      <td>NaN</td>\n",
       "    </tr>\n",
       "    <tr>\n",
       "      <th>2</th>\n",
       "      <td>г683863&lt;887</td>\n",
       "      <td>234</td>\n",
       "      <td>Э76ХФ</td>\n",
       "      <td>Р65</td>\n",
       "      <td>24.0</td>\n",
       "      <td>43.350000</td>\n",
       "      <td>17.950000</td>\n",
       "      <td>43.350000</td>\n",
       "      <td>NaN</td>\n",
       "      <td>0.331665</td>\n",
       "      <td>...</td>\n",
       "      <td>0.12</td>\n",
       "      <td>2.6</td>\n",
       "      <td>NaN</td>\n",
       "      <td>NaN</td>\n",
       "      <td>57.2</td>\n",
       "      <td>0.5</td>\n",
       "      <td>8.1</td>\n",
       "      <td>0.13</td>\n",
       "      <td>2.3</td>\n",
       "      <td>NaN</td>\n",
       "    </tr>\n",
       "    <tr>\n",
       "      <th>3</th>\n",
       "      <td>г683863&lt;888</td>\n",
       "      <td>234</td>\n",
       "      <td>Э76ХФ</td>\n",
       "      <td>Р65</td>\n",
       "      <td>17.0</td>\n",
       "      <td>46.183333</td>\n",
       "      <td>19.816667</td>\n",
       "      <td>46.183333</td>\n",
       "      <td>NaN</td>\n",
       "      <td>0.377945</td>\n",
       "      <td>...</td>\n",
       "      <td>0.11</td>\n",
       "      <td>2.4</td>\n",
       "      <td>NaN</td>\n",
       "      <td>NaN</td>\n",
       "      <td>60.3</td>\n",
       "      <td>0.5</td>\n",
       "      <td>6.3</td>\n",
       "      <td>0.12</td>\n",
       "      <td>2.6</td>\n",
       "      <td>NaN</td>\n",
       "    </tr>\n",
       "    <tr>\n",
       "      <th>4</th>\n",
       "      <td>г683863&lt;889</td>\n",
       "      <td>234</td>\n",
       "      <td>Э76ХФ</td>\n",
       "      <td>Р65</td>\n",
       "      <td>20.0</td>\n",
       "      <td>48.500000</td>\n",
       "      <td>17.033333</td>\n",
       "      <td>48.500000</td>\n",
       "      <td>NaN</td>\n",
       "      <td>0.389875</td>\n",
       "      <td>...</td>\n",
       "      <td>0.12</td>\n",
       "      <td>2.4</td>\n",
       "      <td>NaN</td>\n",
       "      <td>NaN</td>\n",
       "      <td>60.3</td>\n",
       "      <td>0.6</td>\n",
       "      <td>4.5</td>\n",
       "      <td>0.09</td>\n",
       "      <td>2.5</td>\n",
       "      <td>NaN</td>\n",
       "    </tr>\n",
       "  </tbody>\n",
       "</table>\n",
       "<p>5 rows × 84 columns</p>\n",
       "</div>"
      ],
      "text/plain": [
       "          nplv   DT  МАРКА ПРОФИЛЬ  t вып-обр  t обработка  t под током  \\\n",
       "0  г6837?3<87?  235  Э76ХФ     Р65       29.0    45.366667    24.400000   \n",
       "1  г683863<886  234  Э76ХФ     Р65       26.0    44.066667    13.866667   \n",
       "2  г683863<887  234  Э76ХФ     Р65       24.0    43.350000    17.950000   \n",
       "3  г683863<888  234  Э76ХФ     Р65       17.0    46.183333    19.816667   \n",
       "4  г683863<889  234  Э76ХФ     Р65       20.0    48.500000    17.033333   \n",
       "\n",
       "   t продувка  ПСН гр.  чист расход C  ...  химшлак первый MnO_1  \\\n",
       "0   41.033333      NaN       0.456460  ...                  0.12   \n",
       "1   44.066667      NaN       0.359285  ...                  0.14   \n",
       "2   43.350000      NaN       0.331665  ...                  0.12   \n",
       "3   46.183333      NaN       0.377945  ...                  0.11   \n",
       "4   48.500000      NaN       0.389875  ...                  0.12   \n",
       "\n",
       "   химшлак первый R_1  химшлак первый SiO2_1  химшлак последний Al2O3  \\\n",
       "0                 2.6                    NaN                      NaN   \n",
       "1                 2.2                    NaN                      NaN   \n",
       "2                 2.6                    NaN                      NaN   \n",
       "3                 2.4                    NaN                      NaN   \n",
       "4                 2.4                    NaN                      NaN   \n",
       "\n",
       "   химшлак последний CaO  химшлак последний FeO  химшлак последний MgO  \\\n",
       "0                   53.4                    1.0                    5.8   \n",
       "1                   59.3                    0.6                    4.1   \n",
       "2                   57.2                    0.5                    8.1   \n",
       "3                   60.3                    0.5                    6.3   \n",
       "4                   60.3                    0.6                    4.5   \n",
       "\n",
       "   химшлак последний MnO  химшлак последний R  химшлак последний SiO2  \n",
       "0                   0.15                  2.6                     NaN  \n",
       "1                   0.11                  2.3                     NaN  \n",
       "2                   0.13                  2.3                     NaN  \n",
       "3                   0.12                  2.6                     NaN  \n",
       "4                   0.09                  2.5                     NaN  \n",
       "\n",
       "[5 rows x 84 columns]"
      ]
     },
     "execution_count": 40,
     "metadata": {},
     "output_type": "execute_result"
    }
   ],
   "source": [
    "\n",
    "datetime_object_now = datetime.strptime('2071-02-11 00:46:00', '%Y-%m-%d %H:%M:%S')\n",
    "df_best_marka['DT'] = \\\n",
    "list(map(lambda x: (datetime_object_now - datetime.strptime(x.replace('-', ' '), \n",
    "                                                            '%Y %m %d %H:%M:%S')).days, \n",
    "         df_best_marka['DT']))\n",
    "df_best_marka.head()"
   ]
  },
  {
   "cell_type": "code",
   "execution_count": 41,
   "metadata": {
    "ExecuteTime": {
     "end_time": "2019-10-14T03:11:55.896326Z",
     "start_time": "2019-10-14T03:11:55.885658Z"
    },
    "colab": {
     "base_uri": "https://localhost:8080/",
     "height": 331
    },
    "colab_type": "code",
    "id": "YPb97mCU3LhI",
    "outputId": "23cbdf7f-4402-4c1f-d110-53979f62b47c"
   },
   "outputs": [],
   "source": [
    "df_best_marka.ffill(inplace=True)# заполнение соседними значениями\n",
    "df_best_marka = df_best_marka.fillna(value=0.0) # заполнение Нанов"
   ]
  },
  {
   "cell_type": "code",
   "execution_count": 42,
   "metadata": {},
   "outputs": [
    {
     "data": {
      "text/plain": [
       "nplv                              0\n",
       "DT                                0\n",
       "МАРКА                             0\n",
       "ПРОФИЛЬ                           0\n",
       "t вып-обр                         0\n",
       "t обработка                       0\n",
       "t под током                       0\n",
       "t продувка                        0\n",
       "ПСН гр.                           0\n",
       "чист расход C                     0\n",
       "чист расход Cr                    0\n",
       "чист расход Mn                    0\n",
       "чист расход Si                    0\n",
       "чист расход V                     0\n",
       "температура первая                0\n",
       "температура последняя             0\n",
       "Ar (интенс.)                      0\n",
       "N2 (интенс.)                      0\n",
       "эл. энергия (интенс.)             0\n",
       "произв жидкая сталь               0\n",
       "произв количество обработок       0\n",
       "произв  количество плавок         0\n",
       "произв количество плавок (цел)    0\n",
       "расход газ Ar                     0\n",
       "расход газ  N2                    0\n",
       "расход C пров.                    0\n",
       "сыпуч известь РП                  0\n",
       "сыпуч кварцит                     0\n",
       "сыпуч кокс пыль УСТК              0\n",
       "сыпуч  кокс. мелочь (сух.)        0\n",
       "                                 ..\n",
       "химсталь первый Ti_1              0\n",
       "химсталь первый V_1               0\n",
       "химсталь последний Al             0\n",
       "химсталь последний C              0\n",
       "химсталь последний Ca             0\n",
       "химсталь последний Cr             0\n",
       "химсталь последний Cu             0\n",
       "химсталь последний Mn             0\n",
       "химсталь последний Mo             0\n",
       "химсталь последний N              0\n",
       "химсталь последний Ni             0\n",
       "химсталь последний P              0\n",
       "химсталь последний S              0\n",
       "химсталь последний Si             0\n",
       "химсталь последний Ti             0\n",
       "химсталь последний V              0\n",
       "химшлак первый Al2O3_1            0\n",
       "химшлак первый CaO_1              0\n",
       "химшлак первый FeO_1              0\n",
       "химшлак первый MgO_1              0\n",
       "химшлак первый MnO_1              0\n",
       "химшлак первый R_1                0\n",
       "химшлак первый SiO2_1             0\n",
       "химшлак последний Al2O3           0\n",
       "химшлак последний CaO             0\n",
       "химшлак последний FeO             0\n",
       "химшлак последний MgO             0\n",
       "химшлак последний MnO             0\n",
       "химшлак последний R               0\n",
       "химшлак последний SiO2            0\n",
       "Length: 84, dtype: int64"
      ]
     },
     "execution_count": 42,
     "metadata": {},
     "output_type": "execute_result"
    }
   ],
   "source": [
    "#let s see how many NaNs\n",
    "df_best_marka.isnull().sum()"
   ]
  },
  {
   "cell_type": "code",
   "execution_count": 43,
   "metadata": {
    "colab": {
     "base_uri": "https://localhost:8080/",
     "height": 195
    },
    "colab_type": "code",
    "id": "fFcuKgU_H8KO",
    "outputId": "0f0d0fc4-5318-43f8-f5ab-e0b6f1ce8431"
   },
   "outputs": [],
   "source": [
    "#  let s make X dataframe for training model\n",
    "X_columns=[ 'DT', 't вып-обр', 't обработка',\n",
    "       't под током', 't продувка', 'ПСН гр.', 'чист расход C',\n",
    "       'чист расход Cr', 'чист расход Mn', 'чист расход Si', 'чист расход V',\n",
    "       'температура первая', 'температура последняя', 'Ar (интенс.)',\n",
    "       'N2 (интенс.)', 'эл. энергия (интенс.)', 'произв жидкая сталь',\n",
    "       'произв количество обработок', 'произв  количество плавок',\n",
    "       'произв количество плавок (цел)', 'расход газ Ar', 'расход газ  N2',\n",
    "       'расход C пров.', 'сыпуч известь РП', 'сыпуч кварцит',\n",
    "       'сыпуч кокс пыль УСТК', 'сыпуч  кокс. мелочь (сух.)',\n",
    "       'сыпуч  кокс. мелочь КМ1', 'сыпуч  шпат плав.', 'ферспл CaC2',\n",
    "       'ферспл FeMo', 'ферспл FeSi-75', 'ферспл FeV азот.', 'ферспл  FeV-80',\n",
    "       'ферспл  Mn5Si65Al0.5', 'ферспл  Ni H1 пласт.', 'ферспл SiMn18',\n",
    "       'ферспл  ферванит', 'ферспл  фх850А', 'эл. энергия',\n",
    "       'химсталь первый Al_1', 'химсталь первый C_1', 'химсталь первый Cr_1',\n",
    "       'химсталь первый Cu_1', 'химсталь первый Mn_1', 'химсталь первый Mo_1',\n",
    "       'химсталь первый N_1', 'химсталь первый Ni_1', 'химсталь первый P_1',\n",
    "       'химсталь первый S_1', 'химсталь первый Si_1', 'химсталь первый Ti_1',\n",
    "       'химсталь первый V_1', 'химсталь последний Al', 'химсталь последний C',\n",
    "       'химсталь последний Ca', 'химсталь последний Cr',\n",
    "       'химсталь последний Cu', 'химсталь последний Mn',\n",
    "       'химсталь последний Mo', 'химсталь последний N',\n",
    "       'химсталь последний Ni', 'химсталь последний P', 'химсталь последний S',\n",
    "       'химсталь последний Si', 'химсталь последний Ti',\n",
    "       'химсталь последний V', 'химшлак первый Al2O3_1',\n",
    "       'химшлак первый CaO_1', 'химшлак первый FeO_1', 'химшлак первый MgO_1',\n",
    "       'химшлак первый MnO_1', 'химшлак первый R_1', 'химшлак первый SiO2_1',\n",
    "       'химшлак последний FeO', 'химшлак последний MgO',\n",
    "       'химшлак последний MnO']"
   ]
  },
  {
   "cell_type": "code",
   "execution_count": 44,
   "metadata": {},
   "outputs": [],
   "source": [
    "X_train, X_test, Y_train, Y_test = train_test_split(\n",
    "    df_best_marka[X_columns], \n",
    "    df_best_marka[Target_columns], \n",
    "    test_size = 0.3, \n",
    "    random_state = RS, \n",
    "    shuffle=True)"
   ]
  },
  {
   "cell_type": "code",
   "execution_count": 45,
   "metadata": {},
   "outputs": [],
   "source": [
    "net = MLPRegressor(hidden_layer_sizes=(10, 12, 4),\n",
    "                   verbose=True, \n",
    "                   early_stopping=True, \n",
    "                   shuffle=False, \n",
    "                   random_state=RS\n",
    ")"
   ]
  },
  {
   "cell_type": "code",
   "execution_count": 46,
   "metadata": {},
   "outputs": [
    {
     "name": "stdout",
     "output_type": "stream",
     "text": [
      "Iteration 1, loss = 50027.00354732\n",
      "Validation score: -1865.567622\n",
      "Iteration 2, loss = 7266.41982721\n",
      "Validation score: -200.754995\n",
      "Iteration 3, loss = 939.15758428\n",
      "Validation score: -67.324499\n",
      "Iteration 4, loss = 588.64867938\n",
      "Validation score: -60.762390\n",
      "Iteration 5, loss = 550.06645150\n",
      "Validation score: -58.634277\n",
      "Iteration 6, loss = 535.12108917\n",
      "Validation score: -57.524775\n",
      "Iteration 7, loss = 525.35638942\n",
      "Validation score: -56.442226\n",
      "Iteration 8, loss = 516.69904672\n",
      "Validation score: -55.203828\n",
      "Iteration 9, loss = 505.54837620\n",
      "Validation score: -53.125211\n",
      "Iteration 10, loss = 492.75891425\n",
      "Validation score: -52.356678\n",
      "Iteration 11, loss = 487.37209563\n",
      "Validation score: -51.804624\n",
      "Iteration 12, loss = 483.36835863\n",
      "Validation score: -51.517969\n",
      "Iteration 13, loss = 480.82429144\n",
      "Validation score: -51.348614\n",
      "Iteration 14, loss = 479.22605497\n",
      "Validation score: -51.239959\n",
      "Iteration 15, loss = 478.24685580\n",
      "Validation score: -51.156874\n",
      "Iteration 16, loss = 477.38263020\n",
      "Validation score: -51.058906\n",
      "Iteration 17, loss = 476.58936028\n",
      "Validation score: -51.001589\n",
      "Iteration 18, loss = 475.83908742\n",
      "Validation score: -50.952900\n",
      "Iteration 19, loss = 475.10470822\n",
      "Validation score: -50.911144\n",
      "Iteration 20, loss = 473.28071859\n",
      "Validation score: -50.692680\n",
      "Iteration 21, loss = 470.42689832\n",
      "Validation score: -50.028863\n",
      "Iteration 22, loss = 463.37228877\n",
      "Validation score: -49.301263\n",
      "Iteration 23, loss = 457.95194230\n",
      "Validation score: -48.780108\n",
      "Iteration 24, loss = 452.62558634\n",
      "Validation score: -48.228303\n",
      "Iteration 25, loss = 445.67156553\n",
      "Validation score: -47.439140\n",
      "Iteration 26, loss = 438.70150072\n",
      "Validation score: -46.452341\n",
      "Iteration 27, loss = 429.64970327\n",
      "Validation score: -45.412518\n",
      "Iteration 28, loss = 421.41763118\n",
      "Validation score: -44.740220\n",
      "Iteration 29, loss = 415.28646978\n",
      "Validation score: -44.144675\n",
      "Iteration 30, loss = 409.44020196\n",
      "Validation score: -43.686861\n",
      "Iteration 31, loss = 406.05947362\n",
      "Validation score: -43.392151\n",
      "Iteration 32, loss = 403.85346244\n",
      "Validation score: -43.158333\n",
      "Iteration 33, loss = 401.99970043\n",
      "Validation score: -42.943296\n",
      "Iteration 34, loss = 400.28068364\n",
      "Validation score: -42.723334\n",
      "Iteration 35, loss = 398.62975880\n",
      "Validation score: -42.532153\n",
      "Iteration 36, loss = 397.17721891\n",
      "Validation score: -42.362558\n",
      "Iteration 37, loss = 395.73783013\n",
      "Validation score: -42.211077\n",
      "Iteration 38, loss = 394.32719861\n",
      "Validation score: -42.056448\n",
      "Iteration 39, loss = 392.91859302\n",
      "Validation score: -41.905252\n",
      "Iteration 40, loss = 391.50213045\n",
      "Validation score: -41.753963\n",
      "Iteration 41, loss = 390.07231424\n",
      "Validation score: -41.599578\n",
      "Iteration 42, loss = 388.61486508\n",
      "Validation score: -41.440579\n",
      "Iteration 43, loss = 387.10524424\n",
      "Validation score: -41.278907\n",
      "Iteration 44, loss = 385.48310066\n",
      "Validation score: -41.111681\n",
      "Iteration 45, loss = 383.72132972\n",
      "Validation score: -40.941427\n",
      "Iteration 46, loss = 381.95702408\n",
      "Validation score: -40.767554\n",
      "Iteration 47, loss = 380.16677099\n",
      "Validation score: -40.585158\n",
      "Iteration 48, loss = 378.34745795\n",
      "Validation score: -40.396090\n",
      "Iteration 49, loss = 376.51417188\n",
      "Validation score: -40.200858\n",
      "Iteration 50, loss = 374.62472358\n",
      "Validation score: -39.998811\n",
      "Iteration 51, loss = 372.72771664\n",
      "Validation score: -39.791335\n",
      "Iteration 52, loss = 370.78523485\n",
      "Validation score: -39.580753\n",
      "Iteration 53, loss = 368.82523799\n",
      "Validation score: -39.363805\n",
      "Iteration 54, loss = 366.80247578\n",
      "Validation score: -39.145387\n",
      "Iteration 55, loss = 364.73823942\n",
      "Validation score: -38.917600\n",
      "Iteration 56, loss = 362.59842935\n",
      "Validation score: -38.684393\n",
      "Iteration 57, loss = 360.41602394\n",
      "Validation score: -38.444741\n",
      "Iteration 58, loss = 358.16371641\n",
      "Validation score: -38.197921\n",
      "Iteration 59, loss = 355.85706190\n",
      "Validation score: -37.943562\n",
      "Iteration 60, loss = 353.46884657\n",
      "Validation score: -37.682668\n",
      "Iteration 61, loss = 351.01936549\n",
      "Validation score: -37.413707\n",
      "Iteration 62, loss = 348.49750857\n",
      "Validation score: -37.136678\n",
      "Iteration 63, loss = 345.89997282\n",
      "Validation score: -36.851262\n",
      "Iteration 64, loss = 343.21452604\n",
      "Validation score: -36.556772\n",
      "Iteration 65, loss = 340.45042174\n",
      "Validation score: -36.253049\n",
      "Iteration 66, loss = 337.59855038\n",
      "Validation score: -35.939712\n",
      "Iteration 67, loss = 334.65584694\n",
      "Validation score: -35.616555\n",
      "Iteration 68, loss = 331.62010927\n",
      "Validation score: -35.282896\n",
      "Iteration 69, loss = 328.48547651\n",
      "Validation score: -34.938349\n",
      "Iteration 70, loss = 325.24918973\n",
      "Validation score: -34.581903\n",
      "Iteration 71, loss = 321.91035680\n",
      "Validation score: -34.211237\n",
      "Iteration 72, loss = 318.43726926\n",
      "Validation score: -33.828258\n",
      "Iteration 73, loss = 314.85857604\n",
      "Validation score: -33.431708\n",
      "Iteration 74, loss = 311.13846729\n",
      "Validation score: -33.022702\n",
      "Iteration 75, loss = 307.30918774\n",
      "Validation score: -32.596946\n",
      "Iteration 76, loss = 303.32068373\n",
      "Validation score: -32.157099\n",
      "Iteration 77, loss = 299.20116332\n",
      "Validation score: -31.700640\n",
      "Iteration 78, loss = 294.92617872\n",
      "Validation score: -31.227799\n",
      "Iteration 79, loss = 290.51243040\n",
      "Validation score: -30.734599\n",
      "Iteration 80, loss = 285.89515760\n",
      "Validation score: -30.223867\n",
      "Iteration 81, loss = 281.12394160\n",
      "Validation score: -29.692537\n",
      "Iteration 82, loss = 276.16144789\n",
      "Validation score: -29.141273\n",
      "Iteration 83, loss = 271.00884017\n",
      "Validation score: -28.568390\n",
      "Iteration 84, loss = 265.65408379\n",
      "Validation score: -27.972939\n",
      "Iteration 85, loss = 260.08682797\n",
      "Validation score: -27.353807\n",
      "Iteration 86, loss = 254.29729325\n",
      "Validation score: -26.709802\n",
      "Iteration 87, loss = 248.27197314\n",
      "Validation score: -26.039931\n",
      "Iteration 88, loss = 242.00634738\n",
      "Validation score: -25.342651\n",
      "Iteration 89, loss = 235.48630929\n",
      "Validation score: -24.616996\n",
      "Iteration 90, loss = 228.70123752\n",
      "Validation score: -23.861922\n",
      "Iteration 91, loss = 221.64252548\n",
      "Validation score: -23.076381\n",
      "Iteration 92, loss = 214.30156729\n",
      "Validation score: -22.259518\n",
      "Iteration 93, loss = 206.62612784\n",
      "Validation score: -21.410121\n",
      "Iteration 94, loss = 198.57533239\n",
      "Validation score: -20.534939\n",
      "Iteration 95, loss = 190.25619605\n",
      "Validation score: -19.616574\n",
      "Iteration 96, loss = 181.63727407\n",
      "Validation score: -18.644923\n",
      "Iteration 97, loss = 172.67667590\n",
      "Validation score: -17.648191\n",
      "Iteration 98, loss = 163.47884339\n",
      "Validation score: -16.625412\n",
      "Iteration 99, loss = 154.05155372\n",
      "Validation score: -15.579531\n",
      "Iteration 100, loss = 144.42814528\n",
      "Validation score: -14.514416\n",
      "Iteration 101, loss = 134.64760941\n",
      "Validation score: -13.434930\n",
      "Iteration 102, loss = 124.76118526\n",
      "Validation score: -12.347542\n",
      "Iteration 103, loss = 114.83384452\n",
      "Validation score: -11.259781\n",
      "Iteration 104, loss = 104.94547459\n",
      "Validation score: -10.181141\n",
      "Iteration 105, loss = 95.19092942\n",
      "Validation score: -9.122736\n",
      "Iteration 106, loss = 85.67163191\n",
      "Validation score: -8.095682\n",
      "Iteration 107, loss = 76.49275391\n",
      "Validation score: -7.111635\n",
      "Iteration 108, loss = 67.76055778\n",
      "Validation score: -6.181973\n",
      "Iteration 109, loss = 59.57441366\n",
      "Validation score: -5.316924\n",
      "Iteration 110, loss = 52.02007647\n",
      "Validation score: -4.524855\n",
      "Iteration 111, loss = 45.16377501\n",
      "Validation score: -3.811880\n",
      "Iteration 112, loss = 39.04759434\n",
      "Validation score: -3.181095\n",
      "Iteration 113, loss = 33.68717078\n",
      "Validation score: -2.632579\n",
      "Iteration 114, loss = 29.07218917\n",
      "Validation score: -2.163754\n",
      "Iteration 115, loss = 25.16777779\n",
      "Validation score: -1.769931\n",
      "Iteration 116, loss = 21.92171094\n",
      "Validation score: -1.444220\n",
      "Iteration 117, loss = 19.26607721\n",
      "Validation score: -1.179361\n",
      "Iteration 118, loss = 17.12900897\n",
      "Validation score: -0.967032\n",
      "Iteration 119, loss = 15.43300143\n",
      "Validation score: -0.798919\n",
      "Iteration 120, loss = 14.10518665\n",
      "Validation score: -0.667457\n",
      "Iteration 121, loss = 13.07813540\n",
      "Validation score: -0.565669\n",
      "Iteration 122, loss = 12.29273272\n",
      "Validation score: -0.487594\n",
      "Iteration 123, loss = 11.69799802\n",
      "Validation score: -0.428160\n",
      "Iteration 124, loss = 11.25138651\n",
      "Validation score: -0.383173\n",
      "Iteration 125, loss = 10.91835441\n",
      "Validation score: -0.349251\n",
      "Iteration 126, loss = 10.67144996\n",
      "Validation score: -0.323773\n",
      "Iteration 127, loss = 10.48893046\n",
      "Validation score: -0.304561\n",
      "Iteration 128, loss = 10.35427632\n",
      "Validation score: -0.290076\n",
      "Iteration 129, loss = 10.25502280\n",
      "Validation score: -0.279107\n",
      "Iteration 130, loss = 10.18164482\n",
      "Validation score: -0.270730\n",
      "Iteration 131, loss = 10.12704013\n",
      "Validation score: -0.264258\n",
      "Iteration 132, loss = 10.08687281\n",
      "Validation score: -0.259329\n",
      "Iteration 133, loss = 10.05631835\n",
      "Validation score: -0.255353\n",
      "Iteration 134, loss = 10.03258018\n",
      "Validation score: -0.252116\n",
      "Iteration 135, loss = 10.01388364\n",
      "Validation score: -0.249431\n",
      "Iteration 136, loss = 9.99880909\n",
      "Validation score: -0.247153\n",
      "Iteration 137, loss = 9.98633258\n",
      "Validation score: -0.245175\n",
      "Iteration 138, loss = 9.97572576\n",
      "Validation score: -0.243418\n",
      "Iteration 139, loss = 9.96645347\n",
      "Validation score: -0.241882\n",
      "Iteration 140, loss = 9.95815243\n",
      "Validation score: -0.240475\n",
      "Iteration 141, loss = 9.95056786\n",
      "Validation score: -0.239156\n",
      "Iteration 142, loss = 9.94351257\n",
      "Validation score: -0.237905\n",
      "Iteration 143, loss = 9.93685170\n",
      "Validation score: -0.236708\n",
      "Iteration 144, loss = 9.93047769\n",
      "Validation score: -0.235554\n",
      "Iteration 145, loss = 9.92431206\n",
      "Validation score: -0.234438\n",
      "Iteration 146, loss = 9.91829759\n",
      "Validation score: -0.233357\n",
      "Iteration 147, loss = 9.91238348\n",
      "Validation score: -0.232310\n",
      "Iteration 148, loss = 9.90735114\n",
      "Validation score: -0.231287\n",
      "Iteration 149, loss = 9.90277959\n",
      "Validation score: -0.230310\n",
      "Iteration 150, loss = 9.89766356\n",
      "Validation score: -0.229382\n",
      "Iteration 151, loss = 9.89230176\n",
      "Validation score: -0.228494\n",
      "Iteration 152, loss = 9.88680400\n",
      "Validation score: -0.227642\n",
      "Iteration 153, loss = 9.88123679\n",
      "Validation score: -0.226828\n",
      "Iteration 154, loss = 9.87553208\n",
      "Validation score: -0.226040\n",
      "Iteration 155, loss = 9.86975655\n",
      "Validation score: -0.225295\n",
      "Iteration 156, loss = 9.86411211\n",
      "Validation score: -0.224584\n",
      "Iteration 157, loss = 9.85876536\n",
      "Validation score: -0.223903\n",
      "Iteration 158, loss = 9.85341662\n",
      "Validation score: -0.223246\n",
      "Iteration 159, loss = 9.84804435\n",
      "Validation score: -0.222612\n",
      "Iteration 160, loss = 9.84280080\n",
      "Validation score: -0.221995\n",
      "Iteration 161, loss = 9.83752274\n",
      "Validation score: -0.221392\n",
      "Iteration 162, loss = 9.83227485\n",
      "Validation score: -0.220801\n",
      "Iteration 163, loss = 9.82709407\n",
      "Validation score: -0.220222\n",
      "Iteration 164, loss = 9.82199731\n",
      "Validation score: -0.219652\n",
      "Iteration 165, loss = 9.81699358\n",
      "Validation score: -0.219091\n",
      "Iteration 166, loss = 9.81208537\n",
      "Validation score: -0.218540\n",
      "Iteration 167, loss = 9.80728056\n",
      "Validation score: -0.217999\n",
      "Iteration 168, loss = 9.80258024\n",
      "Validation score: -0.217465\n",
      "Iteration 169, loss = 9.79798539\n",
      "Validation score: -0.216939\n",
      "Iteration 170, loss = 9.79348926\n",
      "Validation score: -0.216421\n",
      "Iteration 171, loss = 9.78909164\n",
      "Validation score: -0.215910\n",
      "Iteration 172, loss = 9.78478092\n",
      "Validation score: -0.215427\n",
      "Iteration 173, loss = 9.78056500\n",
      "Validation score: -0.214984\n",
      "Iteration 174, loss = 9.77643671\n",
      "Validation score: -0.214546\n",
      "Iteration 175, loss = 9.77239218\n",
      "Validation score: -0.214115\n",
      "Iteration 176, loss = 9.76842787\n",
      "Validation score: -0.213691\n",
      "Iteration 177, loss = 9.76454044\n",
      "Validation score: -0.213272\n",
      "Iteration 178, loss = 9.76073042\n",
      "Validation score: -0.212861\n",
      "Iteration 179, loss = 9.75699462\n",
      "Validation score: -0.212455\n",
      "Iteration 180, loss = 9.75333022\n",
      "Validation score: -0.212056\n",
      "Iteration 181, loss = 9.74973389\n",
      "Validation score: -0.211664\n",
      "Iteration 182, loss = 9.74620053\n",
      "Validation score: -0.211276\n",
      "Iteration 183, loss = 9.74272606\n",
      "Validation score: -0.210895\n",
      "Iteration 184, loss = 9.73931012\n",
      "Validation score: -0.210518\n",
      "Iteration 185, loss = 9.73595355\n",
      "Validation score: -0.210146\n",
      "Iteration 186, loss = 9.73265711\n",
      "Validation score: -0.209782\n",
      "Iteration 187, loss = 9.72941678\n",
      "Validation score: -0.209422\n",
      "Iteration 188, loss = 9.72622919\n",
      "Validation score: -0.209068\n",
      "Iteration 189, loss = 9.72309153\n",
      "Validation score: -0.208720\n",
      "Iteration 190, loss = 9.72000064\n",
      "Validation score: -0.208376\n",
      "Iteration 191, loss = 9.71696418\n",
      "Validation score: -0.208039\n",
      "Iteration 192, loss = 9.71398081\n",
      "Validation score: -0.207708\n",
      "Iteration 193, loss = 9.71104598\n",
      "Validation score: -0.207382\n",
      "Iteration 194, loss = 9.70858237\n",
      "Validation score: -0.206984\n",
      "Iteration 195, loss = 9.70571547\n",
      "Validation score: -0.206648\n",
      "Iteration 196, loss = 9.70261012\n",
      "Validation score: -0.206344\n",
      "Iteration 197, loss = 9.70004290\n",
      "Validation score: -0.206027\n",
      "Iteration 198, loss = 9.69739790\n",
      "Validation score: -0.205716\n",
      "Iteration 199, loss = 9.69473798\n",
      "Validation score: -0.205412\n",
      "Iteration 200, loss = 9.69215800\n",
      "Validation score: -0.205110\n"
     ]
    },
    {
     "data": {
      "text/plain": [
       "MLPRegressor(activation='relu', alpha=0.0001, batch_size='auto', beta_1=0.9,\n",
       "             beta_2=0.999, early_stopping=True, epsilon=1e-08,\n",
       "             hidden_layer_sizes=(10, 12, 4), learning_rate='constant',\n",
       "             learning_rate_init=0.001, max_iter=200, momentum=0.9,\n",
       "             n_iter_no_change=10, nesterovs_momentum=True, power_t=0.5,\n",
       "             random_state=42, shuffle=False, solver='adam', tol=0.0001,\n",
       "             validation_fraction=0.1, verbose=True, warm_start=False)"
      ]
     },
     "execution_count": 46,
     "metadata": {},
     "output_type": "execute_result"
    }
   ],
   "source": [
    "net.fit(X_train,Y_train)"
   ]
  },
  {
   "cell_type": "code",
   "execution_count": 47,
   "metadata": {},
   "outputs": [
    {
     "data": {
      "text/plain": [
       "-0.14286928478012748"
      ]
     },
     "execution_count": 47,
     "metadata": {},
     "output_type": "execute_result"
    }
   ],
   "source": [
    "net.score(X_train,Y_train)"
   ]
  },
  {
   "cell_type": "code",
   "execution_count": 48,
   "metadata": {
    "colab": {
     "base_uri": "https://localhost:8080/",
     "height": 195
    },
    "colab_type": "code",
    "id": "38KM8LcAITTa",
    "outputId": "f49333b4-c3f9-4ce8-980b-4cabec6c7dee"
   },
   "outputs": [
    {
     "data": {
      "text/plain": [
       "-0.10357021579147163"
      ]
     },
     "execution_count": 48,
     "metadata": {},
     "output_type": "execute_result"
    }
   ],
   "source": [
    "net.score(X_test,Y_test)"
   ]
  },
  {
   "cell_type": "code",
   "execution_count": 55,
   "metadata": {},
   "outputs": [
    {
     "name": "stdout",
     "output_type": "stream",
     "text": [
      "Error on train is  2.2031991484935545\n",
      "Error on validation is  2.288107806077934\n"
     ]
    }
   ],
   "source": [
    "#let s see error on train and validation\n",
    "print('Error on train is ',mean_absolute_error(net.predict(X_train),Y_train))\n",
    "print('Error on validation is ',mean_absolute_error(net.predict(X_test),Y_test))"
   ]
  },
  {
   "cell_type": "code",
   "execution_count": 49,
   "metadata": {},
   "outputs": [],
   "source": [
    "rf = RandomForestRegressor(\n",
    "    n_estimators=150, \n",
    "    max_depth=12, \n",
    "    min_samples_split=7\n",
    ")"
   ]
  },
  {
   "cell_type": "code",
   "execution_count": 50,
   "metadata": {},
   "outputs": [
    {
     "data": {
      "text/plain": [
       "RandomForestRegressor(bootstrap=True, criterion='mse', max_depth=12,\n",
       "                      max_features='auto', max_leaf_nodes=None,\n",
       "                      min_impurity_decrease=0.0, min_impurity_split=None,\n",
       "                      min_samples_leaf=1, min_samples_split=7,\n",
       "                      min_weight_fraction_leaf=0.0, n_estimators=150,\n",
       "                      n_jobs=None, oob_score=False, random_state=None,\n",
       "                      verbose=0, warm_start=False)"
      ]
     },
     "execution_count": 50,
     "metadata": {},
     "output_type": "execute_result"
    }
   ],
   "source": [
    "rf.fit(X_train,Y_train)"
   ]
  },
  {
   "cell_type": "code",
   "execution_count": 51,
   "metadata": {},
   "outputs": [
    {
     "data": {
      "text/plain": [
       "0.9312987155361563"
      ]
     },
     "execution_count": 51,
     "metadata": {},
     "output_type": "execute_result"
    }
   ],
   "source": [
    "rf.score(X_train,Y_train)"
   ]
  },
  {
   "cell_type": "code",
   "execution_count": 52,
   "metadata": {},
   "outputs": [
    {
     "data": {
      "text/plain": [
       "0.8389546138274998"
      ]
     },
     "execution_count": 52,
     "metadata": {},
     "output_type": "execute_result"
    }
   ],
   "source": [
    "rf.score(X_test,Y_test)"
   ]
  },
  {
   "cell_type": "code",
   "execution_count": 54,
   "metadata": {},
   "outputs": [
    {
     "name": "stdout",
     "output_type": "stream",
     "text": [
      "Error on train is  0.6437125337583561\n",
      "Error on validation is  0.9477296059540616\n"
     ]
    }
   ],
   "source": [
    "#let s see error on train and validation\n",
    "print('Error on train is ',mean_absolute_error(rf.predict(X_train),Y_train))\n",
    "print('Error on validation is ',mean_absolute_error(rf.predict(X_test),Y_test))"
   ]
  }
 ],
 "metadata": {
  "colab": {
   "collapsed_sections": [],
   "name": "OilPrices_v03_gridsearch.ipynb",
   "provenance": []
  },
  "kernelspec": {
   "display_name": "Python 3",
   "language": "python",
   "name": "python3"
  },
  "language_info": {
   "codemirror_mode": {
    "name": "ipython",
    "version": 3
   },
   "file_extension": ".py",
   "mimetype": "text/x-python",
   "name": "python",
   "nbconvert_exporter": "python",
   "pygments_lexer": "ipython3",
   "version": "3.7.3"
  },
  "toc": {
   "base_numbering": 1,
   "nav_menu": {},
   "number_sections": true,
   "sideBar": true,
   "skip_h1_title": false,
   "title_cell": "Table of Contents",
   "title_sidebar": "Contents",
   "toc_cell": false,
   "toc_position": {},
   "toc_section_display": true,
   "toc_window_display": false
  }
 },
 "nbformat": 4,
 "nbformat_minor": 1
}
